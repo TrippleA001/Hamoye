{
  "nbformat": 4,
  "nbformat_minor": 0,
  "metadata": {
    "colab": {
      "provenance": [],
      "authorship_tag": "ABX9TyOpdoRd3pHSaaArPWuVCOmy",
      "include_colab_link": true
    },
    "kernelspec": {
      "name": "python3",
      "display_name": "Python 3"
    },
    "language_info": {
      "name": "python"
    }
  },
  "cells": [
    {
      "cell_type": "markdown",
      "metadata": {
        "id": "view-in-github",
        "colab_type": "text"
      },
      "source": [
        "<a href=\"https://colab.research.google.com/github/TrippleA001/Hamoye/blob/main/HDSC_2024_Intro_to_python.ipynb\" target=\"_parent\"><img src=\"https://colab.research.google.com/assets/colab-badge.svg\" alt=\"Open In Colab\"/></a>"
      ]
    },
    {
      "cell_type": "code",
      "execution_count": null,
      "metadata": {
        "id": "cXRd6VJMyPQH"
      },
      "outputs": [],
      "source": [
        "import numpy as np\n",
        "import pandas as pd"
      ]
    },
    {
      "cell_type": "markdown",
      "source": [
        "Hamoye ID: 15faad389501f000"
      ],
      "metadata": {
        "id": "UFGUdhQcieZ_"
      }
    },
    {
      "cell_type": "code",
      "source": [
        "data = pd.read_csv(\"FoodBalanceSheets_E_Africa_NOFLAG.csv\", encoding = \"latin-1\")\n",
        "print(data.head())"
      ],
      "metadata": {
        "colab": {
          "base_uri": "https://localhost:8080/"
        },
        "id": "jHoaqGTgyrYa",
        "outputId": "1b3ff3fc-ca2f-44e2-b040-07cce7fbd19e"
      },
      "execution_count": null,
      "outputs": [
        {
          "output_type": "stream",
          "name": "stdout",
          "text": [
            "   Area Code     Area  Item Code         Item  Element Code  \\\n",
            "0          4  Algeria       2501   Population           511   \n",
            "1          4  Algeria       2501   Population          5301   \n",
            "2          4  Algeria       2901  Grand Total           664   \n",
            "3          4  Algeria       2901  Grand Total           674   \n",
            "4          4  Algeria       2901  Grand Total           684   \n",
            "\n",
            "                                  Element             Unit     Y2014  \\\n",
            "0           Total Population - Both sexes     1000 persons  38924.00   \n",
            "1                Domestic supply quantity      1000 tonnes      0.00   \n",
            "2           Food supply (kcal/capita/day)  kcal/capita/day   3377.00   \n",
            "3  Protein supply quantity (g/capita/day)     g/capita/day     94.90   \n",
            "4      Fat supply quantity (g/capita/day)     g/capita/day     80.06   \n",
            "\n",
            "      Y2015     Y2016     Y2017     Y2018  \n",
            "0  39728.00  40551.00  41389.00  42228.00  \n",
            "1      0.00      0.00      0.00      0.00  \n",
            "2   3379.00   3372.00   3341.00   3322.00  \n",
            "3     94.35     94.72     92.82     91.83  \n",
            "4     79.36     77.40     80.19     77.28  \n"
          ]
        }
      ]
    },
    {
      "cell_type": "code",
      "source": [
        "#What is the mean and standard deviation\n",
        "#across the whole dataset for the year 2017 to 2 decimal places?\n",
        "mean_of_2017 = data['Y2017'].mean()\n",
        "std_of_2017 = data['Y2017'].std()\n",
        "print(f\"The mean and standard deviation across the whole dataset for the year 2017 to 2 decimal places is {mean_of_2017} and {std_of_2017}\")"
      ],
      "metadata": {
        "colab": {
          "base_uri": "https://localhost:8080/"
        },
        "id": "NOdEBJxky2cL",
        "outputId": "19ed89e5-fea6-453c-99b4-ebd0fc811714"
      },
      "execution_count": null,
      "outputs": [
        {
          "output_type": "stream",
          "name": "stdout",
          "text": [
            "The mean and standard deviation across the whole dataset for the year 2017 to 2 decimal places is 140.9177648602722 and 1671.8623590567995\n"
          ]
        }
      ]
    },
    {
      "cell_type": "code",
      "source": [
        "#Select columns ‘Y2017’ and ‘Area’, Perform a groupby operation on ‘Area’.\n",
        "#Which of these Areas had the highest sum in 2017?\n",
        "data.groupby('Area')['Y2017'].sum().sort_values(ascending=False)"
      ],
      "metadata": {
        "colab": {
          "base_uri": "https://localhost:8080/"
        },
        "id": "XJgnn3F9zVlf",
        "outputId": "e23e406e-fe72-4494-e29b-2b85e809f8d1"
      },
      "execution_count": null,
      "outputs": [
        {
          "output_type": "execute_result",
          "data": {
            "text/plain": [
              "Area\n",
              "Nigeria                        1483268.23\n",
              "Egypt                           866379.92\n",
              "South Africa                    517590.54\n",
              "Ethiopia                        448683.76\n",
              "Morocco                         388495.36\n",
              "Ghana                           337599.06\n",
              "Algeria                         325644.27\n",
              "United Republic of Tanzania     322616.85\n",
              "Kenya                           264660.66\n",
              "Sudan                           239931.92\n",
              "Cameroon                        232030.43\n",
              "Angola                          229159.57\n",
              "Côte d'Ivoire                   224599.01\n",
              "Uganda                          213950.38\n",
              "Malawi                          181098.71\n",
              "Mozambique                      161407.98\n",
              "Mauritania                      156665.46\n",
              "Mali                            149928.33\n",
              "Madagascar                      131197.73\n",
              "Niger                           126707.58\n",
              "Benin                           124771.22\n",
              "Tunisia                         124167.20\n",
              "Zambia                          103223.77\n",
              "Burkina Faso                    101855.07\n",
              "Guinea                           98138.87\n",
              "Senegal                          95681.15\n",
              "Zimbabwe                         75919.34\n",
              "Rwanda                           73663.69\n",
              "Chad                             71594.68\n",
              "Sierra Leone                     55311.33\n",
              "Eswatini                         54343.33\n",
              "Mauritius                        51114.83\n",
              "Togo                             49841.88\n",
              "Congo                            41181.68\n",
              "Central African Republic         29937.00\n",
              "Namibia                          29874.89\n",
              "Liberia                          29342.20\n",
              "Gabon                            27979.64\n",
              "Gambia                           23154.18\n",
              "Djibouti                         22729.91\n",
              "Botswana                         22101.30\n",
              "Lesotho                          21267.96\n",
              "Guinea-Bissau                    19102.77\n",
              "Cabo Verde                       14650.74\n",
              "Sao Tome and Principe            12662.63\n",
              "Seychelles                         442.34\n",
              "Comoros                             59.84\n",
              "Sudan (former)                       0.00\n",
              "Ethiopia PDR                         0.00\n",
              "Name: Y2017, dtype: float64"
            ]
          },
          "metadata": {},
          "execution_count": 16
        }
      ]
    },
    {
      "cell_type": "code",
      "source": [
        "#What is the total number of unique countries in the dataset?\n",
        "data['Area'].nunique()"
      ],
      "metadata": {
        "colab": {
          "base_uri": "https://localhost:8080/"
        },
        "id": "1crrq_dT0Wsd",
        "outputId": "e3dd286c-41cf-450b-e1b7-41b267dfe9b8"
      },
      "execution_count": null,
      "outputs": [
        {
          "output_type": "execute_result",
          "data": {
            "text/plain": [
              "49"
            ]
          },
          "metadata": {},
          "execution_count": 19
        }
      ]
    },
    {
      "cell_type": "code",
      "source": [
        "#Consider the following list of tuples:\n",
        "\n",
        "#y = [(2, 4), (7, 8), (1, 5, 9)]\n",
        "\n",
        "#How would you assign element 8 from the list to a variable x?\n",
        "y = [(2, 4), (7, 8), (1, 5, 9)]\n",
        "x = y[1][1]\n",
        "print(x)"
      ],
      "metadata": {
        "colab": {
          "base_uri": "https://localhost:8080/"
        },
        "id": "b5oMWZM-1qCy",
        "outputId": "92103c58-ea15-4895-94c7-f6789adbb300"
      },
      "execution_count": null,
      "outputs": [
        {
          "output_type": "stream",
          "name": "stdout",
          "text": [
            "8\n"
          ]
        }
      ]
    },
    {
      "cell_type": "markdown",
      "source": [],
      "metadata": {
        "id": "5jQndScj2ZT5"
      }
    },
    {
      "cell_type": "code",
      "source": [
        "#What is the total number and percentage\n",
        "#of missing data in 2014 to 3 decimal places?\n",
        "count_of_missing_2014_data = data['Y2014'].isnull().sum()\n",
        "total_count_of_data = len(data['Y2014'])\n",
        "percentage_of_missing_2014_data = (count_of_missing_2014_data/total_count_of_data)*100\n",
        "print(f\"Total number of missing data {count_of_missing_2014_data}, percentage of missing data {percentage_of_missing_2014_data}\")"
      ],
      "metadata": {
        "colab": {
          "base_uri": "https://localhost:8080/"
        },
        "id": "klSpZs9z2DRR",
        "outputId": "7483908d-a489-4eec-9c6b-92dfa49c000a"
      },
      "execution_count": null,
      "outputs": [
        {
          "output_type": "stream",
          "name": "stdout",
          "text": [
            "Total number of missing data 1589, percentage of missing data 2.6073544131401474\n"
          ]
        }
      ]
    },
    {
      "cell_type": "code",
      "source": [
        "#What would be the output for?\n",
        "\n",
        "S = [['him', 'sell'], [90, 28, 43]]\n",
        "\n",
        "S[0][1][1]\n"
      ],
      "metadata": {
        "colab": {
          "base_uri": "https://localhost:8080/",
          "height": 36
        },
        "id": "FLKcX5kn2gMs",
        "outputId": "5f0dec39-56b5-46bc-e644-10603ac82ced"
      },
      "execution_count": null,
      "outputs": [
        {
          "output_type": "execute_result",
          "data": {
            "text/plain": [
              "'e'"
            ],
            "application/vnd.google.colaboratory.intrinsic+json": {
              "type": "string"
            }
          },
          "metadata": {},
          "execution_count": 25
        }
      ]
    },
    {
      "cell_type": "code",
      "source": [
        "#Given the following python code, what would the output of the code give?\n",
        "\n",
        "my_tuppy = (1,2,5,8)\n",
        "\n",
        "my_tuppy[2] = 6"
      ],
      "metadata": {
        "colab": {
          "base_uri": "https://localhost:8080/",
          "height": 176
        },
        "id": "J2YqCPeQ3f_Q",
        "outputId": "964e7200-91e3-414f-cae0-79317246d41d"
      },
      "execution_count": null,
      "outputs": [
        {
          "output_type": "error",
          "ename": "TypeError",
          "evalue": "'tuple' object does not support item assignment",
          "traceback": [
            "\u001b[0;31m---------------------------------------------------------------------------\u001b[0m",
            "\u001b[0;31mTypeError\u001b[0m                                 Traceback (most recent call last)",
            "\u001b[0;32m<ipython-input-26-0ef2fad2270e>\u001b[0m in \u001b[0;36m<cell line: 5>\u001b[0;34m()\u001b[0m\n\u001b[1;32m      3\u001b[0m \u001b[0mmy_tuppy\u001b[0m \u001b[0;34m=\u001b[0m \u001b[0;34m(\u001b[0m\u001b[0;36m1\u001b[0m\u001b[0;34m,\u001b[0m\u001b[0;36m2\u001b[0m\u001b[0;34m,\u001b[0m\u001b[0;36m5\u001b[0m\u001b[0;34m,\u001b[0m\u001b[0;36m8\u001b[0m\u001b[0;34m)\u001b[0m\u001b[0;34m\u001b[0m\u001b[0;34m\u001b[0m\u001b[0m\n\u001b[1;32m      4\u001b[0m \u001b[0;34m\u001b[0m\u001b[0m\n\u001b[0;32m----> 5\u001b[0;31m \u001b[0mmy_tuppy\u001b[0m\u001b[0;34m[\u001b[0m\u001b[0;36m2\u001b[0m\u001b[0;34m]\u001b[0m \u001b[0;34m=\u001b[0m \u001b[0;36m6\u001b[0m\u001b[0;34m\u001b[0m\u001b[0;34m\u001b[0m\u001b[0m\n\u001b[0m",
            "\u001b[0;31mTypeError\u001b[0m: 'tuple' object does not support item assignment"
          ]
        }
      ]
    },
    {
      "cell_type": "code",
      "source": [
        "data.shape"
      ],
      "metadata": {
        "colab": {
          "base_uri": "https://localhost:8080/"
        },
        "id": "kqhiznHA3nFS",
        "outputId": "93f3e68c-2622-4c57-bf14-531ed252d7e5"
      },
      "execution_count": null,
      "outputs": [
        {
          "output_type": "execute_result",
          "data": {
            "text/plain": [
              "(60943, 12)"
            ]
          },
          "metadata": {},
          "execution_count": 28
        }
      ]
    },
    {
      "cell_type": "code",
      "source": [
        "#Given the following numpy array\n",
        "\n",
        "array  = np.array([[94, 89, 63],\n",
        "\n",
        "             [93, 92, 48],\n",
        "\n",
        "             [92, 94, 56]])\n",
        "\n",
        "#How would you select  the elements in bold and italics from the array?\n",
        "array[:2, 1:]"
      ],
      "metadata": {
        "colab": {
          "base_uri": "https://localhost:8080/"
        },
        "id": "zvbiFpgm5DDs",
        "outputId": "69e0dbdd-9d3f-40b6-cfe5-02d422b4a399"
      },
      "execution_count": null,
      "outputs": [
        {
          "output_type": "execute_result",
          "data": {
            "text/plain": [
              "array([[89, 63],\n",
              "       [92, 48]])"
            ]
          },
          "metadata": {},
          "execution_count": 30
        }
      ]
    },
    {
      "cell_type": "code",
      "source": [
        "#Answer the following questions based on the\n",
        "#African food production dataset provided by the FAO website already provided\n",
        "#What is the total sum of Wine produced in 2015 and 2018 respectively?\n",
        "#Hint: Perform a groupby sum aggregation on ‘Item’\n",
        "data.groupby('Item')[['Y2015', 'Y2018']].sum()"
      ],
      "metadata": {
        "colab": {
          "base_uri": "https://localhost:8080/",
          "height": 455
        },
        "id": "58J1x7lP5et7",
        "outputId": "9edcb45a-21ea-42fe-8494-fc2954b8c49d"
      },
      "execution_count": null,
      "outputs": [
        {
          "output_type": "execute_result",
          "data": {
            "text/plain": [
              "                         Y2015      Y2018\n",
              "Item                                     \n",
              "Alcohol, Non-Food      2180.00    2293.00\n",
              "Alcoholic Beverages   98783.72   97847.27\n",
              "Animal Products       11811.73   11578.61\n",
              "Animal fats          200675.72  269648.27\n",
              "Apples and products   10559.15    9640.51\n",
              "...                        ...        ...\n",
              "Vegetables, Other    158104.08  163987.21\n",
              "Vegetal Products     107064.17  107775.39\n",
              "Wheat and products   234710.51  242645.19\n",
              "Wine                   4251.81    4039.32\n",
              "Yams                 203151.78  221272.09\n",
              "\n",
              "[119 rows x 2 columns]"
            ],
            "text/html": [
              "\n",
              "  <div id=\"df-aefe5303-4ced-4337-b1e0-8800103be3dc\" class=\"colab-df-container\">\n",
              "    <div>\n",
              "<style scoped>\n",
              "    .dataframe tbody tr th:only-of-type {\n",
              "        vertical-align: middle;\n",
              "    }\n",
              "\n",
              "    .dataframe tbody tr th {\n",
              "        vertical-align: top;\n",
              "    }\n",
              "\n",
              "    .dataframe thead th {\n",
              "        text-align: right;\n",
              "    }\n",
              "</style>\n",
              "<table border=\"1\" class=\"dataframe\">\n",
              "  <thead>\n",
              "    <tr style=\"text-align: right;\">\n",
              "      <th></th>\n",
              "      <th>Y2015</th>\n",
              "      <th>Y2018</th>\n",
              "    </tr>\n",
              "    <tr>\n",
              "      <th>Item</th>\n",
              "      <th></th>\n",
              "      <th></th>\n",
              "    </tr>\n",
              "  </thead>\n",
              "  <tbody>\n",
              "    <tr>\n",
              "      <th>Alcohol, Non-Food</th>\n",
              "      <td>2180.00</td>\n",
              "      <td>2293.00</td>\n",
              "    </tr>\n",
              "    <tr>\n",
              "      <th>Alcoholic Beverages</th>\n",
              "      <td>98783.72</td>\n",
              "      <td>97847.27</td>\n",
              "    </tr>\n",
              "    <tr>\n",
              "      <th>Animal Products</th>\n",
              "      <td>11811.73</td>\n",
              "      <td>11578.61</td>\n",
              "    </tr>\n",
              "    <tr>\n",
              "      <th>Animal fats</th>\n",
              "      <td>200675.72</td>\n",
              "      <td>269648.27</td>\n",
              "    </tr>\n",
              "    <tr>\n",
              "      <th>Apples and products</th>\n",
              "      <td>10559.15</td>\n",
              "      <td>9640.51</td>\n",
              "    </tr>\n",
              "    <tr>\n",
              "      <th>...</th>\n",
              "      <td>...</td>\n",
              "      <td>...</td>\n",
              "    </tr>\n",
              "    <tr>\n",
              "      <th>Vegetables, Other</th>\n",
              "      <td>158104.08</td>\n",
              "      <td>163987.21</td>\n",
              "    </tr>\n",
              "    <tr>\n",
              "      <th>Vegetal Products</th>\n",
              "      <td>107064.17</td>\n",
              "      <td>107775.39</td>\n",
              "    </tr>\n",
              "    <tr>\n",
              "      <th>Wheat and products</th>\n",
              "      <td>234710.51</td>\n",
              "      <td>242645.19</td>\n",
              "    </tr>\n",
              "    <tr>\n",
              "      <th>Wine</th>\n",
              "      <td>4251.81</td>\n",
              "      <td>4039.32</td>\n",
              "    </tr>\n",
              "    <tr>\n",
              "      <th>Yams</th>\n",
              "      <td>203151.78</td>\n",
              "      <td>221272.09</td>\n",
              "    </tr>\n",
              "  </tbody>\n",
              "</table>\n",
              "<p>119 rows × 2 columns</p>\n",
              "</div>\n",
              "    <div class=\"colab-df-buttons\">\n",
              "\n",
              "  <div class=\"colab-df-container\">\n",
              "    <button class=\"colab-df-convert\" onclick=\"convertToInteractive('df-aefe5303-4ced-4337-b1e0-8800103be3dc')\"\n",
              "            title=\"Convert this dataframe to an interactive table.\"\n",
              "            style=\"display:none;\">\n",
              "\n",
              "  <svg xmlns=\"http://www.w3.org/2000/svg\" height=\"24px\" viewBox=\"0 -960 960 960\">\n",
              "    <path d=\"M120-120v-720h720v720H120Zm60-500h600v-160H180v160Zm220 220h160v-160H400v160Zm0 220h160v-160H400v160ZM180-400h160v-160H180v160Zm440 0h160v-160H620v160ZM180-180h160v-160H180v160Zm440 0h160v-160H620v160Z\"/>\n",
              "  </svg>\n",
              "    </button>\n",
              "\n",
              "  <style>\n",
              "    .colab-df-container {\n",
              "      display:flex;\n",
              "      gap: 12px;\n",
              "    }\n",
              "\n",
              "    .colab-df-convert {\n",
              "      background-color: #E8F0FE;\n",
              "      border: none;\n",
              "      border-radius: 50%;\n",
              "      cursor: pointer;\n",
              "      display: none;\n",
              "      fill: #1967D2;\n",
              "      height: 32px;\n",
              "      padding: 0 0 0 0;\n",
              "      width: 32px;\n",
              "    }\n",
              "\n",
              "    .colab-df-convert:hover {\n",
              "      background-color: #E2EBFA;\n",
              "      box-shadow: 0px 1px 2px rgba(60, 64, 67, 0.3), 0px 1px 3px 1px rgba(60, 64, 67, 0.15);\n",
              "      fill: #174EA6;\n",
              "    }\n",
              "\n",
              "    .colab-df-buttons div {\n",
              "      margin-bottom: 4px;\n",
              "    }\n",
              "\n",
              "    [theme=dark] .colab-df-convert {\n",
              "      background-color: #3B4455;\n",
              "      fill: #D2E3FC;\n",
              "    }\n",
              "\n",
              "    [theme=dark] .colab-df-convert:hover {\n",
              "      background-color: #434B5C;\n",
              "      box-shadow: 0px 1px 3px 1px rgba(0, 0, 0, 0.15);\n",
              "      filter: drop-shadow(0px 1px 2px rgba(0, 0, 0, 0.3));\n",
              "      fill: #FFFFFF;\n",
              "    }\n",
              "  </style>\n",
              "\n",
              "    <script>\n",
              "      const buttonEl =\n",
              "        document.querySelector('#df-aefe5303-4ced-4337-b1e0-8800103be3dc button.colab-df-convert');\n",
              "      buttonEl.style.display =\n",
              "        google.colab.kernel.accessAllowed ? 'block' : 'none';\n",
              "\n",
              "      async function convertToInteractive(key) {\n",
              "        const element = document.querySelector('#df-aefe5303-4ced-4337-b1e0-8800103be3dc');\n",
              "        const dataTable =\n",
              "          await google.colab.kernel.invokeFunction('convertToInteractive',\n",
              "                                                    [key], {});\n",
              "        if (!dataTable) return;\n",
              "\n",
              "        const docLinkHtml = 'Like what you see? Visit the ' +\n",
              "          '<a target=\"_blank\" href=https://colab.research.google.com/notebooks/data_table.ipynb>data table notebook</a>'\n",
              "          + ' to learn more about interactive tables.';\n",
              "        element.innerHTML = '';\n",
              "        dataTable['output_type'] = 'display_data';\n",
              "        await google.colab.output.renderOutput(dataTable, element);\n",
              "        const docLink = document.createElement('div');\n",
              "        docLink.innerHTML = docLinkHtml;\n",
              "        element.appendChild(docLink);\n",
              "      }\n",
              "    </script>\n",
              "  </div>\n",
              "\n",
              "\n",
              "<div id=\"df-ea13d32c-1b85-4e34-b84b-fe3cfef82259\">\n",
              "  <button class=\"colab-df-quickchart\" onclick=\"quickchart('df-ea13d32c-1b85-4e34-b84b-fe3cfef82259')\"\n",
              "            title=\"Suggest charts\"\n",
              "            style=\"display:none;\">\n",
              "\n",
              "<svg xmlns=\"http://www.w3.org/2000/svg\" height=\"24px\"viewBox=\"0 0 24 24\"\n",
              "     width=\"24px\">\n",
              "    <g>\n",
              "        <path d=\"M19 3H5c-1.1 0-2 .9-2 2v14c0 1.1.9 2 2 2h14c1.1 0 2-.9 2-2V5c0-1.1-.9-2-2-2zM9 17H7v-7h2v7zm4 0h-2V7h2v10zm4 0h-2v-4h2v4z\"/>\n",
              "    </g>\n",
              "</svg>\n",
              "  </button>\n",
              "\n",
              "<style>\n",
              "  .colab-df-quickchart {\n",
              "      --bg-color: #E8F0FE;\n",
              "      --fill-color: #1967D2;\n",
              "      --hover-bg-color: #E2EBFA;\n",
              "      --hover-fill-color: #174EA6;\n",
              "      --disabled-fill-color: #AAA;\n",
              "      --disabled-bg-color: #DDD;\n",
              "  }\n",
              "\n",
              "  [theme=dark] .colab-df-quickchart {\n",
              "      --bg-color: #3B4455;\n",
              "      --fill-color: #D2E3FC;\n",
              "      --hover-bg-color: #434B5C;\n",
              "      --hover-fill-color: #FFFFFF;\n",
              "      --disabled-bg-color: #3B4455;\n",
              "      --disabled-fill-color: #666;\n",
              "  }\n",
              "\n",
              "  .colab-df-quickchart {\n",
              "    background-color: var(--bg-color);\n",
              "    border: none;\n",
              "    border-radius: 50%;\n",
              "    cursor: pointer;\n",
              "    display: none;\n",
              "    fill: var(--fill-color);\n",
              "    height: 32px;\n",
              "    padding: 0;\n",
              "    width: 32px;\n",
              "  }\n",
              "\n",
              "  .colab-df-quickchart:hover {\n",
              "    background-color: var(--hover-bg-color);\n",
              "    box-shadow: 0 1px 2px rgba(60, 64, 67, 0.3), 0 1px 3px 1px rgba(60, 64, 67, 0.15);\n",
              "    fill: var(--button-hover-fill-color);\n",
              "  }\n",
              "\n",
              "  .colab-df-quickchart-complete:disabled,\n",
              "  .colab-df-quickchart-complete:disabled:hover {\n",
              "    background-color: var(--disabled-bg-color);\n",
              "    fill: var(--disabled-fill-color);\n",
              "    box-shadow: none;\n",
              "  }\n",
              "\n",
              "  .colab-df-spinner {\n",
              "    border: 2px solid var(--fill-color);\n",
              "    border-color: transparent;\n",
              "    border-bottom-color: var(--fill-color);\n",
              "    animation:\n",
              "      spin 1s steps(1) infinite;\n",
              "  }\n",
              "\n",
              "  @keyframes spin {\n",
              "    0% {\n",
              "      border-color: transparent;\n",
              "      border-bottom-color: var(--fill-color);\n",
              "      border-left-color: var(--fill-color);\n",
              "    }\n",
              "    20% {\n",
              "      border-color: transparent;\n",
              "      border-left-color: var(--fill-color);\n",
              "      border-top-color: var(--fill-color);\n",
              "    }\n",
              "    30% {\n",
              "      border-color: transparent;\n",
              "      border-left-color: var(--fill-color);\n",
              "      border-top-color: var(--fill-color);\n",
              "      border-right-color: var(--fill-color);\n",
              "    }\n",
              "    40% {\n",
              "      border-color: transparent;\n",
              "      border-right-color: var(--fill-color);\n",
              "      border-top-color: var(--fill-color);\n",
              "    }\n",
              "    60% {\n",
              "      border-color: transparent;\n",
              "      border-right-color: var(--fill-color);\n",
              "    }\n",
              "    80% {\n",
              "      border-color: transparent;\n",
              "      border-right-color: var(--fill-color);\n",
              "      border-bottom-color: var(--fill-color);\n",
              "    }\n",
              "    90% {\n",
              "      border-color: transparent;\n",
              "      border-bottom-color: var(--fill-color);\n",
              "    }\n",
              "  }\n",
              "</style>\n",
              "\n",
              "  <script>\n",
              "    async function quickchart(key) {\n",
              "      const quickchartButtonEl =\n",
              "        document.querySelector('#' + key + ' button');\n",
              "      quickchartButtonEl.disabled = true;  // To prevent multiple clicks.\n",
              "      quickchartButtonEl.classList.add('colab-df-spinner');\n",
              "      try {\n",
              "        const charts = await google.colab.kernel.invokeFunction(\n",
              "            'suggestCharts', [key], {});\n",
              "      } catch (error) {\n",
              "        console.error('Error during call to suggestCharts:', error);\n",
              "      }\n",
              "      quickchartButtonEl.classList.remove('colab-df-spinner');\n",
              "      quickchartButtonEl.classList.add('colab-df-quickchart-complete');\n",
              "    }\n",
              "    (() => {\n",
              "      let quickchartButtonEl =\n",
              "        document.querySelector('#df-ea13d32c-1b85-4e34-b84b-fe3cfef82259 button');\n",
              "      quickchartButtonEl.style.display =\n",
              "        google.colab.kernel.accessAllowed ? 'block' : 'none';\n",
              "    })();\n",
              "  </script>\n",
              "</div>\n",
              "\n",
              "    </div>\n",
              "  </div>\n"
            ],
            "application/vnd.google.colaboratory.intrinsic+json": {
              "type": "dataframe",
              "summary": "{\n  \"name\": \"data\",\n  \"rows\": 119,\n  \"fields\": [\n    {\n      \"column\": \"Item\",\n      \"properties\": {\n        \"dtype\": \"string\",\n        \"num_unique_values\": 119,\n        \"samples\": [\n          \"Molluscs, Other\",\n          \"Rye and products\",\n          \"Apples and products\"\n        ],\n        \"semantic_type\": \"\",\n        \"description\": \"\"\n      }\n    },\n    {\n      \"column\": \"Y2015\",\n      \"properties\": {\n        \"dtype\": \"number\",\n        \"std\": 157083.20192682743,\n        \"min\": 0.0,\n        \"max\": 1058081.0,\n        \"num_unique_values\": 117,\n        \"samples\": [\n          42199.35,\n          10559.15,\n          266446.14\n        ],\n        \"semantic_type\": \"\",\n        \"description\": \"\"\n      }\n    },\n    {\n      \"column\": \"Y2018\",\n      \"properties\": {\n        \"dtype\": \"number\",\n        \"std\": 168032.67838709275,\n        \"min\": 0.0,\n        \"max\": 1140605.0,\n        \"num_unique_values\": 117,\n        \"samples\": [\n          46513.58,\n          9640.51,\n          281018.64\n        ],\n        \"semantic_type\": \"\",\n        \"description\": \"\"\n      }\n    }\n  ]\n}"
            }
          },
          "metadata": {},
          "execution_count": 31
        }
      ]
    },
    {
      "cell_type": "markdown",
      "source": [
        "![image.png](data:image/png;base64,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)"
      ],
      "metadata": {
        "id": "iuHWTwYW6_eP"
      }
    },
    {
      "cell_type": "code",
      "source": [
        "#If you have the following list\n",
        "\n",
        "lst = [[35, 'Portugal', 94], [33, 'Argentina', 93], [30 , 'Brazil', 92]]\n",
        "\n",
        "col = ['Age','Nationality','Overall']\n",
        "\n",
        "#How do you create a pandas DataFrame using this list,\n",
        "# to look like the table above?\n",
        "df = pd.DataFrame(lst, columns = col, index=[i for i in range(1,4)])\n",
        "print(df)"
      ],
      "metadata": {
        "colab": {
          "base_uri": "https://localhost:8080/"
        },
        "id": "ctHuf55-6lle",
        "outputId": "37ef138e-4ed6-454f-abfd-1f638431e8a9"
      },
      "execution_count": null,
      "outputs": [
        {
          "output_type": "stream",
          "name": "stdout",
          "text": [
            "   Age Nationality  Overall\n",
            "1   35    Portugal       94\n",
            "2   33   Argentina       93\n",
            "3   30      Brazil       92\n"
          ]
        }
      ]
    },
    {
      "cell_type": "code",
      "source": [
        "#Select columns ‘Y2017’ and ‘Area’, Perform a groupby operation on ‘Area’.\n",
        "#Which of these Areas had the 7th lowest sum in 2017?\n",
        "data.groupby('Area')['Y2017'].sum().sort_values()"
      ],
      "metadata": {
        "colab": {
          "base_uri": "https://localhost:8080/"
        },
        "id": "n2pSPhmv7Pjc",
        "outputId": "4b29d9c2-d9c2-4b41-941d-704a639f5b1c"
      },
      "execution_count": null,
      "outputs": [
        {
          "output_type": "execute_result",
          "data": {
            "text/plain": [
              "Area\n",
              "Sudan (former)                       0.00\n",
              "Ethiopia PDR                         0.00\n",
              "Comoros                             59.84\n",
              "Seychelles                         442.34\n",
              "Sao Tome and Principe            12662.63\n",
              "Cabo Verde                       14650.74\n",
              "Guinea-Bissau                    19102.77\n",
              "Lesotho                          21267.96\n",
              "Botswana                         22101.30\n",
              "Djibouti                         22729.91\n",
              "Gambia                           23154.18\n",
              "Gabon                            27979.64\n",
              "Liberia                          29342.20\n",
              "Namibia                          29874.89\n",
              "Central African Republic         29937.00\n",
              "Congo                            41181.68\n",
              "Togo                             49841.88\n",
              "Mauritius                        51114.83\n",
              "Eswatini                         54343.33\n",
              "Sierra Leone                     55311.33\n",
              "Chad                             71594.68\n",
              "Rwanda                           73663.69\n",
              "Zimbabwe                         75919.34\n",
              "Senegal                          95681.15\n",
              "Guinea                           98138.87\n",
              "Burkina Faso                    101855.07\n",
              "Zambia                          103223.77\n",
              "Tunisia                         124167.20\n",
              "Benin                           124771.22\n",
              "Niger                           126707.58\n",
              "Madagascar                      131197.73\n",
              "Mali                            149928.33\n",
              "Mauritania                      156665.46\n",
              "Mozambique                      161407.98\n",
              "Malawi                          181098.71\n",
              "Uganda                          213950.38\n",
              "Côte d'Ivoire                   224599.01\n",
              "Angola                          229159.57\n",
              "Cameroon                        232030.43\n",
              "Sudan                           239931.92\n",
              "Kenya                           264660.66\n",
              "United Republic of Tanzania     322616.85\n",
              "Algeria                         325644.27\n",
              "Ghana                           337599.06\n",
              "Morocco                         388495.36\n",
              "Ethiopia                        448683.76\n",
              "South Africa                    517590.54\n",
              "Egypt                           866379.92\n",
              "Nigeria                        1483268.23\n",
              "Name: Y2017, dtype: float64"
            ]
          },
          "metadata": {},
          "execution_count": 44
        }
      ]
    },
    {
      "cell_type": "code",
      "source": [
        "#Perform a groupby operation on ‘Element’.\n",
        "#What is the total number of the sum of Processing in 2017?\n",
        "data.groupby('Element')['Y2017'].sum()"
      ],
      "metadata": {
        "colab": {
          "base_uri": "https://localhost:8080/"
        },
        "id": "Cv2VJBB58FPN",
        "outputId": "888fd7b4-1f8b-4b2b-ca6b-ca8cc9a16db4"
      },
      "execution_count": null,
      "outputs": [
        {
          "output_type": "execute_result",
          "data": {
            "text/plain": [
              "Element\n",
              "Domestic supply quantity                  2088198.10\n",
              "Export Quantity                            182338.80\n",
              "Fat supply quantity (g/capita/day)          10253.84\n",
              "Feed                                       223705.68\n",
              "Food                                      1258888.28\n",
              "Food supply (kcal/capita/day)              454681.00\n",
              "Food supply quantity (kg/capita/yr)         48690.04\n",
              "Import Quantity                            294559.09\n",
              "Losses                                     160614.00\n",
              "Other uses (non-food)                       91645.97\n",
              "Processing                                 292836.00\n",
              "Production                                2030056.89\n",
              "Protein supply quantity (g/capita/day)      11842.45\n",
              "Residuals                                   35500.00\n",
              "Seed                                        24870.14\n",
              "Stock Variation                             54316.91\n",
              "Total Population - Both sexes             1112641.00\n",
              "Tourist consumption                            91.00\n",
              "Name: Y2017, dtype: float64"
            ]
          },
          "metadata": {},
          "execution_count": 45
        }
      ]
    },
    {
      "cell_type": "code",
      "source": [
        "#What is the total Protein supply quantity in Madagascar in 2015?\n",
        "data.groupby(['Area','Element'])['Y2015'].sum()['Madagascar']"
      ],
      "metadata": {
        "colab": {
          "base_uri": "https://localhost:8080/"
        },
        "id": "zeRFn4s28sEu",
        "outputId": "cfd94523-e160-4385-fe6a-6228c2a7a79e"
      },
      "execution_count": null,
      "outputs": [
        {
          "output_type": "execute_result",
          "data": {
            "text/plain": [
              "Element\n",
              "Domestic supply quantity                  31214.98\n",
              "Export Quantity                             494.75\n",
              "Fat supply quantity (g/capita/day)           91.85\n",
              "Feed                                       2070.22\n",
              "Food                                      21120.65\n",
              "Food supply (kcal/capita/day)              7685.00\n",
              "Food supply quantity (kg/capita/yr)         871.59\n",
              "Import Quantity                            1721.80\n",
              "Losses                                     2176.00\n",
              "Other uses (non-food)                      3957.12\n",
              "Processing                                 1803.00\n",
              "Production                                29482.89\n",
              "Protein supply quantity (g/capita/day)      173.05\n",
              "Residuals                                  -616.00\n",
              "Seed                                        699.00\n",
              "Stock Variation                            -505.00\n",
              "Total Population - Both sexes             24234.00\n",
              "Name: Y2015, dtype: float64"
            ]
          },
          "metadata": {},
          "execution_count": 48
        }
      ]
    },
    {
      "cell_type": "code",
      "source": [
        "#Which year had the least corrata.corr()['Element Code'].sort_values(ascending=False) 'Y2017', 'Y2018']].corr(data['Element Code'])"
      ],
      "metadata": {
        "id": "OZH_-NYT8-6G"
      },
      "execution_count": null,
      "outputs": []
    },
    {
      "cell_type": "code",
      "source": [
        "#Perform a groupby operation on ‘Element’.\n",
        "#What year has the highest sum of Stock Variation?\n",
        "data.groupby('Element')[]"
      ],
      "metadata": {
        "id": "2_28aSNh9Q_e"
      },
      "execution_count": null,
      "outputs": []
    }
  ]
}